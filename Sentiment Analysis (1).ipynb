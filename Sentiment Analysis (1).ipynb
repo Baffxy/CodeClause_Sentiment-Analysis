{
 "cells": [
  {
   "cell_type": "markdown",
   "id": "4b5c7e3c",
   "metadata": {},
   "source": [
    "# Project Name - Sentiment Analysis"
   ]
  },
  {
   "cell_type": "markdown",
   "id": "d0def4ea",
   "metadata": {},
   "source": [
    "## Objective :-\n",
    "**To build a text classifier model to classify the sentiment behind the text**\n"
   ]
  },
  {
   "cell_type": "markdown",
   "id": "78a93a21",
   "metadata": {},
   "source": [
    "# AUTHOR :- ABDULLAHI LABARAN"
   ]
  },
  {
   "cell_type": "code",
   "execution_count": 1,
   "id": "c67b7c47",
   "metadata": {},
   "outputs": [],
   "source": [
    "#importing the necessary libraries\n",
    "import re\n",
    "import numpy as np\n",
    "import pandas as pd\n",
    "# plotting\n",
    "import seaborn as sns\n",
    "from wordcloud import WordCloud\n",
    "import matplotlib.pyplot as plt\n",
    "# nltk\n",
    "from nltk.stem import WordNetLemmatizer\n",
    "# sklearn\n",
    "from sklearn.svm import LinearSVC\n",
    "from sklearn.naive_bayes import BernoulliNB\n",
    "from sklearn.linear_model import LogisticRegression\n",
    "from sklearn.model_selection import train_test_split\n",
    "from sklearn.feature_extraction.text import TfidfVectorizer\n",
    "from sklearn.metrics import confusion_matrix, classification_report"
   ]
  },
  {
   "cell_type": "markdown",
   "id": "71bb2340",
   "metadata": {},
   "source": [
    "**Reading and loading the Dataset**"
   ]
  },
  {
   "cell_type": "code",
   "execution_count": 2,
   "id": "688636d1",
   "metadata": {},
   "outputs": [
    {
     "data": {
      "text/html": [
       "<div>\n",
       "<style scoped>\n",
       "    .dataframe tbody tr th:only-of-type {\n",
       "        vertical-align: middle;\n",
       "    }\n",
       "\n",
       "    .dataframe tbody tr th {\n",
       "        vertical-align: top;\n",
       "    }\n",
       "\n",
       "    .dataframe thead th {\n",
       "        text-align: right;\n",
       "    }\n",
       "</style>\n",
       "<table border=\"1\" class=\"dataframe\">\n",
       "  <thead>\n",
       "    <tr style=\"text-align: right;\">\n",
       "      <th></th>\n",
       "      <th>target</th>\n",
       "      <th>ids</th>\n",
       "      <th>date</th>\n",
       "      <th>flag</th>\n",
       "      <th>user</th>\n",
       "      <th>text</th>\n",
       "    </tr>\n",
       "  </thead>\n",
       "  <tbody>\n",
       "    <tr>\n",
       "      <th>145947</th>\n",
       "      <td>0</td>\n",
       "      <td>1882349379</td>\n",
       "      <td>Fri May 22 06:42:39 PDT 2009</td>\n",
       "      <td>NO_QUERY</td>\n",
       "      <td>chemicalkitchen</td>\n",
       "      <td>it's friday, but i need starting material so m...</td>\n",
       "    </tr>\n",
       "    <tr>\n",
       "      <th>270266</th>\n",
       "      <td>0</td>\n",
       "      <td>1989793585</td>\n",
       "      <td>Mon Jun 01 02:49:54 PDT 2009</td>\n",
       "      <td>NO_QUERY</td>\n",
       "      <td>dazedanez</td>\n",
       "      <td>says ang bigat pa rin ng ulo ko..  like i can'...</td>\n",
       "    </tr>\n",
       "    <tr>\n",
       "      <th>1466131</th>\n",
       "      <td>4</td>\n",
       "      <td>2064435486</td>\n",
       "      <td>Sun Jun 07 06:15:32 PDT 2009</td>\n",
       "      <td>NO_QUERY</td>\n",
       "      <td>phoeNYkx</td>\n",
       "      <td>@George_Thirteen Bruce sounds like Paul in 22 ...</td>\n",
       "    </tr>\n",
       "    <tr>\n",
       "      <th>862126</th>\n",
       "      <td>4</td>\n",
       "      <td>1676826497</td>\n",
       "      <td>Fri May 01 23:20:42 PDT 2009</td>\n",
       "      <td>NO_QUERY</td>\n",
       "      <td>MouseholeCat</td>\n",
       "      <td>@white76 I'll be round for the bq on Monday! Y...</td>\n",
       "    </tr>\n",
       "    <tr>\n",
       "      <th>983450</th>\n",
       "      <td>4</td>\n",
       "      <td>1834295814</td>\n",
       "      <td>Mon May 18 02:23:09 PDT 2009</td>\n",
       "      <td>NO_QUERY</td>\n",
       "      <td>DanielFielding</td>\n",
       "      <td>morning tweeters</td>\n",
       "    </tr>\n",
       "  </tbody>\n",
       "</table>\n",
       "</div>"
      ],
      "text/plain": [
       "         target         ids                          date      flag  \\\n",
       "145947        0  1882349379  Fri May 22 06:42:39 PDT 2009  NO_QUERY   \n",
       "270266        0  1989793585  Mon Jun 01 02:49:54 PDT 2009  NO_QUERY   \n",
       "1466131       4  2064435486  Sun Jun 07 06:15:32 PDT 2009  NO_QUERY   \n",
       "862126        4  1676826497  Fri May 01 23:20:42 PDT 2009  NO_QUERY   \n",
       "983450        4  1834295814  Mon May 18 02:23:09 PDT 2009  NO_QUERY   \n",
       "\n",
       "                    user                                               text  \n",
       "145947   chemicalkitchen  it's friday, but i need starting material so m...  \n",
       "270266         dazedanez  says ang bigat pa rin ng ulo ko..  like i can'...  \n",
       "1466131         phoeNYkx  @George_Thirteen Bruce sounds like Paul in 22 ...  \n",
       "862126      MouseholeCat  @white76 I'll be round for the bq on Monday! Y...  \n",
       "983450    DanielFielding                                  morning tweeters   "
      ]
     },
     "execution_count": 2,
     "metadata": {},
     "output_type": "execute_result"
    }
   ],
   "source": [
    "# Importing the dataset\n",
    "DATASET_COLUMNS=['target','ids','date','flag','user','text']\n",
    "DATASET_ENCODING = \"ISO-8859-1\"\n",
    "df = pd.read_csv('C:\\\\Users\\\\USER\\\\Downloads\\\\Project_Data.csv', encoding=DATASET_ENCODING, names=DATASET_COLUMNS)\n",
    "df.sample(5)\n"
   ]
  },
  {
   "cell_type": "markdown",
   "id": "b12c4a55",
   "metadata": {},
   "source": [
    "**Exploratory Data Analysis**"
   ]
  },
  {
   "cell_type": "code",
   "execution_count": 3,
   "id": "63389627",
   "metadata": {},
   "outputs": [
    {
     "data": {
      "text/html": [
       "<div>\n",
       "<style scoped>\n",
       "    .dataframe tbody tr th:only-of-type {\n",
       "        vertical-align: middle;\n",
       "    }\n",
       "\n",
       "    .dataframe tbody tr th {\n",
       "        vertical-align: top;\n",
       "    }\n",
       "\n",
       "    .dataframe thead th {\n",
       "        text-align: right;\n",
       "    }\n",
       "</style>\n",
       "<table border=\"1\" class=\"dataframe\">\n",
       "  <thead>\n",
       "    <tr style=\"text-align: right;\">\n",
       "      <th></th>\n",
       "      <th>target</th>\n",
       "      <th>ids</th>\n",
       "      <th>date</th>\n",
       "      <th>flag</th>\n",
       "      <th>user</th>\n",
       "      <th>text</th>\n",
       "    </tr>\n",
       "  </thead>\n",
       "  <tbody>\n",
       "    <tr>\n",
       "      <th>0</th>\n",
       "      <td>0</td>\n",
       "      <td>1467810369</td>\n",
       "      <td>Mon Apr 06 22:19:45 PDT 2009</td>\n",
       "      <td>NO_QUERY</td>\n",
       "      <td>_TheSpecialOne_</td>\n",
       "      <td>@switchfoot http://twitpic.com/2y1zl - Awww, t...</td>\n",
       "    </tr>\n",
       "    <tr>\n",
       "      <th>1</th>\n",
       "      <td>0</td>\n",
       "      <td>1467810672</td>\n",
       "      <td>Mon Apr 06 22:19:49 PDT 2009</td>\n",
       "      <td>NO_QUERY</td>\n",
       "      <td>scotthamilton</td>\n",
       "      <td>is upset that he can't update his Facebook by ...</td>\n",
       "    </tr>\n",
       "    <tr>\n",
       "      <th>2</th>\n",
       "      <td>0</td>\n",
       "      <td>1467810917</td>\n",
       "      <td>Mon Apr 06 22:19:53 PDT 2009</td>\n",
       "      <td>NO_QUERY</td>\n",
       "      <td>mattycus</td>\n",
       "      <td>@Kenichan I dived many times for the ball. Man...</td>\n",
       "    </tr>\n",
       "    <tr>\n",
       "      <th>3</th>\n",
       "      <td>0</td>\n",
       "      <td>1467811184</td>\n",
       "      <td>Mon Apr 06 22:19:57 PDT 2009</td>\n",
       "      <td>NO_QUERY</td>\n",
       "      <td>ElleCTF</td>\n",
       "      <td>my whole body feels itchy and like its on fire</td>\n",
       "    </tr>\n",
       "    <tr>\n",
       "      <th>4</th>\n",
       "      <td>0</td>\n",
       "      <td>1467811193</td>\n",
       "      <td>Mon Apr 06 22:19:57 PDT 2009</td>\n",
       "      <td>NO_QUERY</td>\n",
       "      <td>Karoli</td>\n",
       "      <td>@nationwideclass no, it's not behaving at all....</td>\n",
       "    </tr>\n",
       "  </tbody>\n",
       "</table>\n",
       "</div>"
      ],
      "text/plain": [
       "   target         ids                          date      flag  \\\n",
       "0       0  1467810369  Mon Apr 06 22:19:45 PDT 2009  NO_QUERY   \n",
       "1       0  1467810672  Mon Apr 06 22:19:49 PDT 2009  NO_QUERY   \n",
       "2       0  1467810917  Mon Apr 06 22:19:53 PDT 2009  NO_QUERY   \n",
       "3       0  1467811184  Mon Apr 06 22:19:57 PDT 2009  NO_QUERY   \n",
       "4       0  1467811193  Mon Apr 06 22:19:57 PDT 2009  NO_QUERY   \n",
       "\n",
       "              user                                               text  \n",
       "0  _TheSpecialOne_  @switchfoot http://twitpic.com/2y1zl - Awww, t...  \n",
       "1    scotthamilton  is upset that he can't update his Facebook by ...  \n",
       "2         mattycus  @Kenichan I dived many times for the ball. Man...  \n",
       "3          ElleCTF    my whole body feels itchy and like its on fire   \n",
       "4           Karoli  @nationwideclass no, it's not behaving at all....  "
      ]
     },
     "execution_count": 3,
     "metadata": {},
     "output_type": "execute_result"
    }
   ],
   "source": [
    "#Five top records of data\n",
    "\n",
    "df.head()"
   ]
  },
  {
   "cell_type": "code",
   "execution_count": 4,
   "id": "4b8968d5",
   "metadata": {},
   "outputs": [
    {
     "data": {
      "text/plain": [
       "Index(['target', 'ids', 'date', 'flag', 'user', 'text'], dtype='object')"
      ]
     },
     "execution_count": 4,
     "metadata": {},
     "output_type": "execute_result"
    }
   ],
   "source": [
    "#Columns/features in data\n",
    "\n",
    "df.columns"
   ]
  },
  {
   "cell_type": "code",
   "execution_count": 5,
   "id": "39eaf578",
   "metadata": {},
   "outputs": [
    {
     "name": "stdout",
     "output_type": "stream",
     "text": [
      "length of data is 1600000\n"
     ]
    }
   ],
   "source": [
    "#: Length of the dataset\n",
    "\n",
    "print('length of data is', len(df))"
   ]
  },
  {
   "cell_type": "code",
   "execution_count": 6,
   "id": "0be8eb65",
   "metadata": {},
   "outputs": [
    {
     "data": {
      "text/plain": [
       "(1600000, 6)"
      ]
     },
     "execution_count": 6,
     "metadata": {},
     "output_type": "execute_result"
    }
   ],
   "source": [
    "#Shape of data\n",
    "\n",
    "df. shape"
   ]
  },
  {
   "cell_type": "code",
   "execution_count": 7,
   "id": "0edd3b14",
   "metadata": {},
   "outputs": [
    {
     "name": "stdout",
     "output_type": "stream",
     "text": [
      "<class 'pandas.core.frame.DataFrame'>\n",
      "RangeIndex: 1600000 entries, 0 to 1599999\n",
      "Data columns (total 6 columns):\n",
      " #   Column  Non-Null Count    Dtype \n",
      "---  ------  --------------    ----- \n",
      " 0   target  1600000 non-null  int64 \n",
      " 1   ids     1600000 non-null  int64 \n",
      " 2   date    1600000 non-null  object\n",
      " 3   flag    1600000 non-null  object\n",
      " 4   user    1600000 non-null  object\n",
      " 5   text    1600000 non-null  object\n",
      "dtypes: int64(2), object(4)\n",
      "memory usage: 73.2+ MB\n"
     ]
    }
   ],
   "source": [
    "#Data information\n",
    "\n",
    "df.info()"
   ]
  },
  {
   "cell_type": "code",
   "execution_count": 8,
   "id": "8119f37a",
   "metadata": {},
   "outputs": [
    {
     "data": {
      "text/plain": [
       "target     int64\n",
       "ids        int64\n",
       "date      object\n",
       "flag      object\n",
       "user      object\n",
       "text      object\n",
       "dtype: object"
      ]
     },
     "execution_count": 8,
     "metadata": {},
     "output_type": "execute_result"
    }
   ],
   "source": [
    "# Datatypes of all columns\n",
    "\n",
    "df.dtypes"
   ]
  },
  {
   "cell_type": "code",
   "execution_count": 9,
   "id": "9ac75e2d",
   "metadata": {},
   "outputs": [
    {
     "data": {
      "text/plain": [
       "0"
      ]
     },
     "execution_count": 9,
     "metadata": {},
     "output_type": "execute_result"
    }
   ],
   "source": [
    "# Checking for null values\n",
    "\n",
    "np.sum(df.isnull().any(axis=1))"
   ]
  },
  {
   "cell_type": "code",
   "execution_count": 10,
   "id": "98e319c1",
   "metadata": {},
   "outputs": [
    {
     "name": "stdout",
     "output_type": "stream",
     "text": [
      "Count of columns in the data is:   6\n",
      "Count of rows in the data is:   1600000\n"
     ]
    }
   ],
   "source": [
    "#Rows and columns in the dataset\n",
    "\n",
    "print('Count of columns in the data is:  ', len(df.columns))\n",
    "print('Count of rows in the data is:  ', len(df))"
   ]
  },
  {
   "cell_type": "code",
   "execution_count": 11,
   "id": "eedc147e",
   "metadata": {},
   "outputs": [
    {
     "data": {
      "text/plain": [
       "array([0, 4], dtype=int64)"
      ]
     },
     "execution_count": 11,
     "metadata": {},
     "output_type": "execute_result"
    }
   ],
   "source": [
    "#Check unique target values\n",
    "\n",
    "df['target'].unique()"
   ]
  },
  {
   "cell_type": "code",
   "execution_count": 12,
   "id": "6922ee6a",
   "metadata": {},
   "outputs": [
    {
     "data": {
      "text/plain": [
       "2"
      ]
     },
     "execution_count": 12,
     "metadata": {},
     "output_type": "execute_result"
    }
   ],
   "source": [
    "#Check the number of target values\n",
    "\n",
    "df['target'].nunique()"
   ]
  },
  {
   "cell_type": "markdown",
   "id": "8213e092",
   "metadata": {},
   "source": [
    "**Data Visualization of Target Variables**"
   ]
  },
  {
   "cell_type": "code",
   "execution_count": 13,
   "id": "d6630486",
   "metadata": {},
   "outputs": [
    {
     "data": {
      "image/png": "[encoded data removed]",
      "text/plain": [
       "<Figure size 432x288 with 1 Axes>"
      ]
     },
     "metadata": {
      "needs_background": "light"
     },
     "output_type": "display_data"
    }
   ],
   "source": [
    "# Plotting the distribution for dataset.\n",
    "ax = df.groupby('target').count().plot(kind='bar', title='Distribution of data',legend=False)\n",
    "# Storing data in lists.\n",
    "text, sentiment = list(df['text']), list(df['target'])"
   ]
  },
  {
   "cell_type": "code",
   "execution_count": 14,
   "id": "d6608fb0",
   "metadata": {},
   "outputs": [
    {
     "data": {
      "text/plain": [
       "<AxesSubplot:xlabel='target', ylabel='count'>"
      ]
     },
     "execution_count": 14,
     "metadata": {},
     "output_type": "execute_result"
    },
    {
     "data": {
      "image/png": "[encoded data removed]",
      "text/plain": [
       "<Figure size 432x288 with 1 Axes>"
      ]
     },
     "metadata": {
      "needs_background": "light"
     },
     "output_type": "display_data"
    }
   ],
   "source": [
    "import seaborn as sns\n",
    "sns.countplot(x='target', data=df)"
   ]
  },
  {
   "cell_type": "code",
   "execution_count": 15,
   "id": "c63b1485",
   "metadata": {},
   "outputs": [
    {
     "data": {
      "text/plain": [
       "array([0, 4], dtype=int64)"
      ]
     },
     "execution_count": 15,
     "metadata": {},
     "output_type": "execute_result"
    }
   ],
   "source": [
    "# Selecting the text and Target column for our further analysis\n",
    "data=df[['text','target']]\n",
    "data['target'].unique()\n"
   ]
  },
  {
   "cell_type": "markdown",
   "id": "3a73fb3c",
   "metadata": {},
   "source": [
    "**Separating positive and negative tweets**"
   ]
  },
  {
   "cell_type": "code",
   "execution_count": 16,
   "id": "508afd38",
   "metadata": {},
   "outputs": [
    {
     "data": {
      "text/plain": [
       "19995    not much time off this weekend, work trip to m...\n",
       "19996                            one more day of holidays \n",
       "19997    feeling so down right now .. i hate you damn h...\n",
       "19998    geez,i hv to read the whole book of personalit...\n",
       "19999    i threw my sign at donnie and he bent over to ...\n",
       "Name: text, dtype: object"
      ]
     },
     "execution_count": 16,
     "metadata": {},
     "output_type": "execute_result"
    }
   ],
   "source": [
    "#Separating positive and negative tweets\n",
    "\n",
    "data_pos = data[data['target'] == 1]\n",
    "data_neg = data[data['target'] == 0]\n",
    "\n",
    "\n",
    "data_pos = data_pos.iloc[:int(20000)]\n",
    "data_neg = data_neg.iloc[:int(20000)]\n",
    "\n",
    "\n",
    "dataset = pd.concat([data_pos, data_neg])\n",
    "dataset['text']=dataset['text'].str.lower()\n",
    "dataset['text'].tail()"
   ]
  },
  {
   "cell_type": "markdown",
   "id": "1b34981a",
   "metadata": {},
   "source": [
    "**Defining set containing all stopwords in English.**"
   ]
  },
  {
   "cell_type": "code",
   "execution_count": 17,
   "id": "d144c8f7",
   "metadata": {},
   "outputs": [],
   "source": [
    "stopwordlist = ['a', 'about', 'above', 'after', 'again', 'ain', 'all', 'am', 'an',\n",
    "             'and','any','are', 'as', 'at', 'be', 'because', 'been', 'before',\n",
    "             'being', 'below', 'between','both', 'by', 'can', 'd', 'did', 'do',\n",
    "             'does', 'doing', 'down', 'during', 'each','few', 'for', 'from',\n",
    "             'further', 'had', 'has', 'have', 'having', 'he', 'her', 'here',\n",
    "             'hers', 'herself', 'him', 'himself', 'his', 'how', 'i', 'if', 'in',\n",
    "             'into','is', 'it', 'its', 'itself', 'just', 'll', 'm', 'ma',\n",
    "             'me', 'more', 'most','my', 'myself', 'now', 'o', 'of', 'on', 'once',\n",
    "             'only', 'or', 'other', 'our', 'ours','ourselves', 'out', 'own', 're','s', 'same', 'she', \"shes\", 'should', \"shouldve\",'so', 'some', 'such',\n",
    "             't', 'than', 'that', \"thatll\", 'the', 'their', 'theirs', 'them',\n",
    "             'themselves', 'then', 'there', 'these', 'they', 'this', 'those',\n",
    "             'through', 'to', 'too','under', 'until', 'up', 've', 'very', 'was',\n",
    "             'we', 'were', 'what', 'when', 'where','which','while', 'who', 'whom',\n",
    "             'why', 'will', 'with', 'won', 'y', 'you', \"youd\",\"youll\", \"youre\",\n",
    "             \"youve\", 'your', 'yours', 'yourself', 'yourselves']"
   ]
  },
  {
   "cell_type": "markdown",
   "id": "1a5f6b16",
   "metadata": {},
   "source": [
    "**Cleaning and removing the above stop words list from the tweet text**"
   ]
  },
  {
   "cell_type": "code",
   "execution_count": 18,
   "id": "30f4f801",
   "metadata": {},
   "outputs": [
    {
     "data": {
      "text/plain": [
       "0    @switchfoot http://twitpic.com/2y1zl - awww, t...\n",
       "1    upset can't update facebook texting it... migh...\n",
       "2    @kenichan dived many times ball. managed save ...\n",
       "3                     whole body feels itchy like fire\n",
       "4    @nationwideclass no, it's not behaving all. i'...\n",
       "Name: text, dtype: object"
      ]
     },
     "execution_count": 18,
     "metadata": {},
     "output_type": "execute_result"
    }
   ],
   "source": [
    "STOPWORDS = set(stopwordlist)\n",
    "def cleaning_stopwords(text):\n",
    "    return \" \".join([word for word in str(text).split() if word not in STOPWORDS])\n",
    "dataset['text'] = dataset['text'].apply(lambda text: cleaning_stopwords(text))\n",
    "dataset['text'].head()"
   ]
  },
  {
   "cell_type": "markdown",
   "id": "03e54ea7",
   "metadata": {},
   "source": [
    "**Cleaning and removing punctuations**"
   ]
  },
  {
   "cell_type": "code",
   "execution_count": 19,
   "id": "6dda93f6",
   "metadata": {},
   "outputs": [
    {
     "data": {
      "text/plain": [
       "19995    not much time off weekend work trip malmï¿½ fr...\n",
       "19996                                     one day holidays\n",
       "19997                     feeling right  hate damn humprey\n",
       "19998    geezi hv read whole book personality types emb...\n",
       "19999    threw sign donnie bent over get but thingee ma...\n",
       "Name: text, dtype: object"
      ]
     },
     "execution_count": 19,
     "metadata": {},
     "output_type": "execute_result"
    }
   ],
   "source": [
    "import string\n",
    "english_punctuations = string.punctuation\n",
    "punctuations_list = english_punctuations\n",
    "def cleaning_punctuations(text):\n",
    "    translator = str.maketrans('', '', punctuations_list)\n",
    "    return text.translate(translator)\n",
    "dataset['text']= dataset['text'].apply(lambda x: cleaning_punctuations(x))\n",
    "dataset['text'].tail()"
   ]
  },
  {
   "cell_type": "markdown",
   "id": "cfa42e63",
   "metadata": {},
   "source": [
    "**Cleaning and removing repeating characters**"
   ]
  },
  {
   "cell_type": "code",
   "execution_count": 20,
   "id": "095ee78c",
   "metadata": {},
   "outputs": [
    {
     "data": {
      "text/plain": [
       "19995    not much time off weekend work trip malmï¿½ fr...\n",
       "19996                                     one day holidays\n",
       "19997                     feeling right  hate damn humprey\n",
       "19998    geezi hv read whole book personality types emb...\n",
       "19999    threw sign donnie bent over get but thingee ma...\n",
       "Name: text, dtype: object"
      ]
     },
     "execution_count": 20,
     "metadata": {},
     "output_type": "execute_result"
    }
   ],
   "source": [
    "\n",
    "def cleaning_repeating_char(text):\n",
    "    return re.sub(r'(.)1+', r'1', text)\n",
    "dataset['text'] = dataset['text'].apply(lambda x: cleaning_repeating_char(x))\n",
    "dataset['text'].tail()"
   ]
  },
  {
   "cell_type": "code",
   "execution_count": 21,
   "id": "12ff6eec",
   "metadata": {},
   "outputs": [
    {
     "data": {
      "text/plain": [
       "19995    not much time off weekend work trip malmï¿½ fr...\n",
       "19996                                     one day holidays\n",
       "19997                     feeling right  hate damn humprey\n",
       "19998    geezi hv read whole book personality types emb...\n",
       "19999    threw sign donnie bent over get but thingee ma...\n",
       "Name: text, dtype: object"
      ]
     },
     "execution_count": 21,
     "metadata": {},
     "output_type": "execute_result"
    }
   ],
   "source": [
    "#Cleaning and removing URLs\n",
    "\n",
    "def cleaning_URLs(data):\n",
    "    return re.sub('((www.[^s]+)|(https?://[^s]+))',' ',data)\n",
    "dataset['text'] = dataset['text'].apply(lambda x: cleaning_URLs(x))\n",
    "dataset['text'].tail()"
   ]
  },
  {
   "cell_type": "code",
   "execution_count": 22,
   "id": "f4c20257",
   "metadata": {},
   "outputs": [
    {
     "data": {
      "text/plain": [
       "19995    not much time off weekend work trip malmï¿½ fr...\n",
       "19996                                     one day holidays\n",
       "19997                     feeling right  hate damn humprey\n",
       "19998    geezi hv read whole book personality types emb...\n",
       "19999    threw sign donnie bent over get but thingee ma...\n",
       "Name: text, dtype: object"
      ]
     },
     "execution_count": 22,
     "metadata": {},
     "output_type": "execute_result"
    }
   ],
   "source": [
    "# Cleaning and removing numeric numbers\n",
    "\n",
    "def cleaning_numbers(data):\n",
    "    return re.sub('[0-9]+', '', data)\n",
    "dataset['text'] = dataset['text'].apply(lambda x: cleaning_numbers(x))\n",
    "dataset['text'].tail()"
   ]
  },
  {
   "cell_type": "code",
   "execution_count": 23,
   "id": "7d4481c4",
   "metadata": {},
   "outputs": [
    {
     "data": {
      "text/plain": [
       "0    [w, w]\n",
       "1        []\n",
       "2        []\n",
       "3       [w]\n",
       "4       [w]\n",
       "Name: text, dtype: object"
      ]
     },
     "execution_count": 23,
     "metadata": {},
     "output_type": "execute_result"
    }
   ],
   "source": [
    "#Getting tokenization of tweet text\n",
    "\n",
    "from nltk.tokenize import RegexpTokenizer\n",
    "tokenizer = RegexpTokenizer(r'w+')\n",
    "dataset['text'] = dataset['text'].apply(tokenizer.tokenize)\n",
    "dataset['text'].head()"
   ]
  },
  {
   "cell_type": "code",
   "execution_count": 24,
   "id": "580d6ed0",
   "metadata": {},
   "outputs": [
    {
     "data": {
      "text/plain": [
       "0    [w, w]\n",
       "1        []\n",
       "2        []\n",
       "3       [w]\n",
       "4       [w]\n",
       "Name: text, dtype: object"
      ]
     },
     "execution_count": 24,
     "metadata": {},
     "output_type": "execute_result"
    }
   ],
   "source": [
    "#Applying stemming\n",
    "\n",
    "import nltk\n",
    "st = nltk.PorterStemmer()\n",
    "def stemming_on_text(data):\n",
    "    text = [st.stem(word) for word in data]\n",
    "    return data\n",
    "dataset['text']= dataset['text'].apply(lambda x: stemming_on_text(x))\n",
    "dataset['text'].head()"
   ]
  },
  {
   "cell_type": "code",
   "execution_count": 25,
   "id": "9df4ef40",
   "metadata": {},
   "outputs": [
    {
     "data": {
      "text/plain": [
       "0    [w, w]\n",
       "1        []\n",
       "2        []\n",
       "3       [w]\n",
       "4       [w]\n",
       "Name: text, dtype: object"
      ]
     },
     "execution_count": 25,
     "metadata": {},
     "output_type": "execute_result"
    }
   ],
   "source": [
    "#Applying lemmatizer\n",
    "\n",
    "lm = nltk.WordNetLemmatizer()\n",
    "def lemmatizer_on_text(data):\n",
    "    text = [lm.lemmatize(word) for word in data]\n",
    "    return data\n",
    "dataset['text'] = dataset['text'].apply(lambda x: lemmatizer_on_text(x))\n",
    "dataset['text'].head()"
   ]
  },
  {
   "cell_type": "code",
   "execution_count": 26,
   "id": "0731d913",
   "metadata": {},
   "outputs": [],
   "source": [
    "#Separating input feature and label\n",
    "\n",
    "X=data.text\n",
    "y=data.target\n"
   ]
  },
  {
   "cell_type": "code",
   "execution_count": 27,
   "id": "2a5e3cf7",
   "metadata": {},
   "outputs": [],
   "source": [
    "# Separating the 95% data for training data and 5% for testing data\n",
    "X_train, X_test, y_train, y_test = train_test_split(X,y,test_size = 0.05, random_state =26105111)"
   ]
  },
  {
   "cell_type": "markdown",
   "id": "e940fce7",
   "metadata": {},
   "source": [
    "**Transforming the Dataset Using TF-IDF Vectorizer**"
   ]
  },
  {
   "cell_type": "code",
   "execution_count": 28,
   "id": "f066707e",
   "metadata": {
    "scrolled": true
   },
   "outputs": [
    {
     "name": "stdout",
     "output_type": "stream",
     "text": [
      "No. of feature_words:  500000\n"
     ]
    }
   ],
   "source": [
    "vectoriser = TfidfVectorizer(ngram_range=(1,2), max_features=500000)\n",
    "vectoriser.fit(X_train)\n",
    "print('No. of feature_words: ', len(vectoriser.get_feature_names()))"
   ]
  },
  {
   "cell_type": "markdown",
   "id": "5c4d1494",
   "metadata": {},
   "source": [
    "**Model Evaluation**"
   ]
  },
  {
   "cell_type": "code",
   "execution_count": 29,
   "id": "ac8b8c32",
   "metadata": {},
   "outputs": [],
   "source": [
    "def model_Evaluate(model):\n",
    "    \n",
    "# Predict values for Test dataset\n",
    "    y_pred = model.predict(X_test)\n",
    "    # Print the evaluation metrics for the dataset.\n",
    "    print(classification_report(y_test, y_pred))\n",
    "    # Compute and plot the Confusion matrix\n",
    "    cf_matrix = confusion_matrix(y_test, y_pred)\n",
    "    categories = ['Negative','Positive']\n",
    "    group_names = ['True Neg','False Pos', 'False Neg','True Pos']\n",
    "    group_percentages = ['{0:.2%}'.format(value) for value in cf_matrix.flatten() / np.sum(cf_matrix)]\n",
    "    labels = [f'{v1}n{v2}' for v1, v2 in zip(group_names,group_percentages)]\n",
    "    labels = np.asarray(labels).reshape(2,2)\n",
    "    sns.heatmap(cf_matrix, annot = labels, cmap = 'Blues',fmt = '',\n",
    "    xticklabels = categories, yticklabels = categories)\n",
    "    plt.xlabel(\"Predicted values\", fontdict = {'size':14}, labelpad = 10)\n",
    "    plt.ylabel(\"Actual values\" , fontdict = {'size':14}, labelpad = 10)\n",
    "    plt.title (\"Confusion Matrix\", fontdict = {'size':18}, pad = 20)"
   ]
  },
  {
   "cell_type": "markdown",
   "id": "e37f2037",
   "metadata": {},
   "source": [
    "**Model Building**"
   ]
  },
  {
   "cell_type": "code",
   "execution_count": 30,
   "id": "732c48d5",
   "metadata": {},
   "outputs": [
    {
     "name": "stdout",
     "output_type": "stream",
     "text": [
      "              precision    recall  f1-score   support\n",
      "\n",
      "           0       0.81      0.79      0.80     40100\n",
      "           4       0.80      0.81      0.80     39900\n",
      "\n",
      "    accuracy                           0.80     80000\n",
      "   macro avg       0.80      0.80      0.80     80000\n",
      "weighted avg       0.80      0.80      0.80     80000\n",
      "\n"
     ]
    },
    {
     "data": {
      "image/png": "[encoded data removed]",
      "text/plain": [
       "<Figure size 432x288 with 2 Axes>"
      ]
     },
     "metadata": {
      "needs_background": "light"
     },
     "output_type": "display_data"
    }
   ],
   "source": [
    "# Preprocess text data and convert it to numerical representation\n",
    "vectorizer = TfidfVectorizer()\n",
    "X_train = vectorizer.fit_transform(X_train)\n",
    "X_test= vectorizer.transform(X_test)\n",
    "\n",
    "LRmodel = LogisticRegression(C = 2, max_iter = 1000, n_jobs=-1)\n",
    "LRmodel.fit(X_train, y_train)\n",
    "model_Evaluate(LRmodel)\n",
    "y_pred3 = LRmodel.predict(X_test)"
   ]
  },
  {
   "cell_type": "markdown",
   "id": "976d4209",
   "metadata": {},
   "source": [
    "**Plot ROC-AUC Curve for the model**"
   ]
  },
  {
   "cell_type": "code",
   "execution_count": 31,
   "id": "192064c0",
   "metadata": {},
   "outputs": [
    {
     "data": {
      "image/png": "[encoded data removed]",
      "text/plain": [
       "<Figure size 432x288 with 1 Axes>"
      ]
     },
     "metadata": {
      "needs_background": "light"
     },
     "output_type": "display_data"
    }
   ],
   "source": [
    "from sklearn.metrics import roc_curve, auc\n",
    "\n",
    "# Map y_true values to 0 and 1\n",
    "y_true_binary = np.where(y_test == 4, 1, 0)\n",
    "\n",
    "# Calculate ROC curve and AUC\n",
    "fpr, tpr, thresholds = roc_curve(y_true_binary, y_pred3)\n",
    "roc_auc = auc(fpr, tpr)\n",
    "\n",
    "# Plot ROC curve\n",
    "plt.figure()\n",
    "plt.plot(fpr, tpr, color='darkorange', lw=1, label='ROC curve (area = %0.2f)' % roc_auc)\n",
    "plt.xlim([0.0, 1.0])\n",
    "plt.ylim([0.0, 1.05])\n",
    "plt.xlabel('False Positive Rate')\n",
    "plt.ylabel('True Positive Rate')\n",
    "plt.title('ROC CURVE')\n",
    "plt.legend(loc=\"lower right\")\n",
    "plt.show()\n"
   ]
  }
 ],
 "metadata": {
  "kernelspec": {
   "display_name": "Python 3 (ipykernel)",
   "language": "python",
   "name": "python3"
  },
  "language_info": {
   "codemirror_mode": {
    "name": "ipython",
    "version": 3
   },
   "file_extension": ".py",
   "mimetype": "text/x-python",
   "name": "python",
   "nbconvert_exporter": "python",
   "pygments_lexer": "ipython3",
   "version": "3.9.7"
  }
 },
 "nbformat": 4,
 "nbformat_minor": 5
}
